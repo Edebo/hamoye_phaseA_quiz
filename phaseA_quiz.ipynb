{
  "nbformat": 4,
  "nbformat_minor": 0,
  "metadata": {
    "colab": {
      "name": "phaseA_quiz.ipynb",
      "provenance": [],
      "collapsed_sections": [],
      "authorship_tag": "ABX9TyPP+XVZ4W3FQkO0ThPz+Avc",
      "include_colab_link": true
    },
    "kernelspec": {
      "name": "python3",
      "display_name": "Python 3"
    }
  },
  "cells": [
    {
      "cell_type": "markdown",
      "metadata": {
        "id": "view-in-github",
        "colab_type": "text"
      },
      "source": [
        "<a href=\"https://colab.research.google.com/github/Edebo/hamoye_phaseA_quiz/blob/master/phaseA_quiz.ipynb\" target=\"_parent\"><img src=\"https://colab.research.google.com/assets/colab-badge.svg\" alt=\"Open In Colab\"/></a>"
      ]
    },
    {
      "cell_type": "code",
      "metadata": {
        "id": "Gd_GSnVhSrSz",
        "colab_type": "code",
        "colab": {}
      },
      "source": [
        "import pandas as pd"
      ],
      "execution_count": 56,
      "outputs": []
    },
    {
      "cell_type": "code",
      "metadata": {
        "id": "ktK_XFVSS5HE",
        "colab_type": "code",
        "colab": {}
      },
      "source": [
        "data_url = \"https://raw.githubusercontent.com/WalePhenomenon/climate_change/master/fuel_ferc1.csv\"\n",
        "#error_bad_lines : boolean, default True Lines with too many fields (e.g. a csv line with too many commas) will by default cause an exception to be raised, and no DataFrame will be returned.\n",
        "fuel_data = pd.read_csv(data_url,error_bad_lines=False)"
      ],
      "execution_count": 57,
      "outputs": []
    },
    {
      "cell_type": "code",
      "metadata": {
        "id": "Wo7or7oOS_E-",
        "colab_type": "code",
        "colab": {
          "base_uri": "https://localhost:8080/",
          "height": 323
        },
        "outputId": "45f305b1-cc19-4246-8706-a6e5cb8b2c5f"
      },
      "source": [
        "fuel_data.info()"
      ],
      "execution_count": 58,
      "outputs": [
        {
          "output_type": "stream",
          "text": [
            "<class 'pandas.core.frame.DataFrame'>\n",
            "RangeIndex: 29523 entries, 0 to 29522\n",
            "Data columns (total 11 columns):\n",
            " #   Column                        Non-Null Count  Dtype  \n",
            "---  ------                        --------------  -----  \n",
            " 0   record_id                     29523 non-null  object \n",
            " 1   utility_id_ferc1              29523 non-null  int64  \n",
            " 2   report_year                   29523 non-null  int64  \n",
            " 3   plant_name_ferc1              29523 non-null  object \n",
            " 4   fuel_type_code_pudl           29523 non-null  object \n",
            " 5   fuel_unit                     29343 non-null  object \n",
            " 6   fuel_qty_burned               29523 non-null  float64\n",
            " 7   fuel_mmbtu_per_unit           29523 non-null  float64\n",
            " 8   fuel_cost_per_unit_burned     29523 non-null  float64\n",
            " 9   fuel_cost_per_unit_delivered  29523 non-null  float64\n",
            " 10  fuel_cost_per_mmbtu           29523 non-null  float64\n",
            "dtypes: float64(5), int64(2), object(4)\n",
            "memory usage: 2.5+ MB\n"
          ],
          "name": "stdout"
        }
      ]
    },
    {
      "cell_type": "code",
      "metadata": {
        "id": "MPJu8ubDTHpU",
        "colab_type": "code",
        "colab": {
          "base_uri": "https://localhost:8080/",
          "height": 221
        },
        "outputId": "2280e69f-4cbb-44ff-90c8-f73f1d923809"
      },
      "source": [
        "#check for missing value\n",
        "total_null=fuel_data.isnull().sum()\n",
        "fuel_data.isnull().sum()"
      ],
      "execution_count": 59,
      "outputs": [
        {
          "output_type": "execute_result",
          "data": {
            "text/plain": [
              "record_id                         0\n",
              "utility_id_ferc1                  0\n",
              "report_year                       0\n",
              "plant_name_ferc1                  0\n",
              "fuel_type_code_pudl               0\n",
              "fuel_unit                       180\n",
              "fuel_qty_burned                   0\n",
              "fuel_mmbtu_per_unit               0\n",
              "fuel_cost_per_unit_burned         0\n",
              "fuel_cost_per_unit_delivered      0\n",
              "fuel_cost_per_mmbtu               0\n",
              "dtype: int64"
            ]
          },
          "metadata": {
            "tags": []
          },
          "execution_count": 59
        }
      ]
    },
    {
      "cell_type": "code",
      "metadata": {
        "id": "iQ81NBxBToRe",
        "colab_type": "code",
        "colab": {
          "base_uri": "https://localhost:8080/",
          "height": 187
        },
        "outputId": "d980d4e3-03f3-4741-c110-a4a5364f0afc"
      },
      "source": [
        "#counting the number of distinct value in fuel_unit columns\n",
        "fuel_data[\"fuel_unit\"].value_counts()"
      ],
      "execution_count": 60,
      "outputs": [
        {
          "output_type": "execute_result",
          "data": {
            "text/plain": [
              "mcf       11354\n",
              "ton        8958\n",
              "bbl        7998\n",
              "gramsU      464\n",
              "mmbtu       180\n",
              "kgU         110\n",
              "mwhth       100\n",
              "mwdth        95\n",
              "gal          84\n",
              "Name: fuel_unit, dtype: int64"
            ]
          },
          "metadata": {
            "tags": []
          },
          "execution_count": 60
        }
      ]
    },
    {
      "cell_type": "code",
      "metadata": {
        "id": "hB1JfIEST4YQ",
        "colab_type": "code",
        "colab": {}
      },
      "source": [
        "#filling the nan with value mcf\n",
        "fuel_data[\"fuel_unit\"]=fuel_data[\"fuel_unit\"].fillna(value=\"mcf\")"
      ],
      "execution_count": 61,
      "outputs": []
    },
    {
      "cell_type": "markdown",
      "metadata": {
        "id": "yXTMPfbHUJv2",
        "colab_type": "text"
      },
      "source": [
        "##**Question** 3\n",
        "Which of the following fuel type code has the lowest average fuel cost per unit burned?\n"
      ]
    },
    {
      "cell_type": "code",
      "metadata": {
        "id": "eitYk7w9UI6i",
        "colab_type": "code",
        "colab": {
          "base_uri": "https://localhost:8080/",
          "height": 153
        },
        "outputId": "fd74ff0a-22b0-4979-ab45-215c5e01e52b"
      },
      "source": [
        "fuel_data.groupby(\"fuel_type_code_pudl\")[\"fuel_cost_per_unit_burned\"].mean().sort_values(ascending=False)"
      ],
      "execution_count": 62,
      "outputs": [
        {
          "output_type": "execute_result",
          "data": {
            "text/plain": [
              "fuel_type_code_pudl\n",
              "nuclear   4,955.16\n",
              "oil         168.88\n",
              "coal         67.42\n",
              "waste        19.52\n",
              "other        18.25\n",
              "gas          13.66\n",
              "Name: fuel_cost_per_unit_burned, dtype: float64"
            ]
          },
          "metadata": {
            "tags": []
          },
          "execution_count": 62
        }
      ]
    },
    {
      "cell_type": "markdown",
      "metadata": {
        "id": "ErH5FeekUlAC",
        "colab_type": "text"
      },
      "source": [
        "##**Question 4**\n",
        "What is the standard deviation and 75th percentile of the measure of energy per unit (Fuel_mmbtu_per_unit) in two decimal places?\n"
      ]
    },
    {
      "cell_type": "code",
      "metadata": {
        "id": "SwSGKHOHUvj2",
        "colab_type": "code",
        "colab": {
          "base_uri": "https://localhost:8080/",
          "height": 170
        },
        "outputId": "bc5b2981-00a5-4368-8564-1d18734085bd"
      },
      "source": [
        "fuel_data[\"fuel_mmbtu_per_unit\"].describe()"
      ],
      "execution_count": 63,
      "outputs": [
        {
          "output_type": "execute_result",
          "data": {
            "text/plain": [
              "count   29,523.00\n",
              "mean         8.49\n",
              "std         10.60\n",
              "min          0.00\n",
              "25%          1.02\n",
              "50%          5.76\n",
              "75%         17.01\n",
              "max        341.26\n",
              "Name: fuel_mmbtu_per_unit, dtype: float64"
            ]
          },
          "metadata": {
            "tags": []
          },
          "execution_count": 63
        }
      ]
    },
    {
      "cell_type": "markdown",
      "metadata": {
        "id": "_zBnUsC_U-xt",
        "colab_type": "text"
      },
      "source": [
        "##**Question 5**\n",
        "What is the skewness and kurtosis for the fuel quantity burned in two decimal places?\n"
      ]
    },
    {
      "cell_type": "code",
      "metadata": {
        "id": "CSskDo27VB9x",
        "colab_type": "code",
        "colab": {
          "base_uri": "https://localhost:8080/",
          "height": 34
        },
        "outputId": "12dca809-0656-4d7e-a899-240cf424c7a8"
      },
      "source": [
        "#skewness measure fuel quantity burned\n",
        "round(fuel_data[\"fuel_qty_burned\"].skew(),2)\n"
      ],
      "execution_count": 64,
      "outputs": [
        {
          "output_type": "execute_result",
          "data": {
            "text/plain": [
              "15.85"
            ]
          },
          "metadata": {
            "tags": []
          },
          "execution_count": 64
        }
      ]
    },
    {
      "cell_type": "code",
      "metadata": {
        "id": "UqAll-YgVJgx",
        "colab_type": "code",
        "colab": {
          "base_uri": "https://localhost:8080/",
          "height": 34
        },
        "outputId": "6414f4bb-6f20-4523-d16d-bc2137377ca2"
      },
      "source": [
        "#kurtosis measure fuel quantity burned\n",
        "round(fuel_data[\"fuel_qty_burned\"].kurtosis(),2)"
      ],
      "execution_count": 65,
      "outputs": [
        {
          "output_type": "execute_result",
          "data": {
            "text/plain": [
              "651.37"
            ]
          },
          "metadata": {
            "tags": []
          },
          "execution_count": 65
        }
      ]
    },
    {
      "cell_type": "markdown",
      "metadata": {
        "id": "oUdfJ38xXG-4",
        "colab_type": "text"
      },
      "source": [
        "##**Question 6**\n",
        "Which feature has missing values and what is the total number of missing value and percentage of the missing rows as a factor of the total number of rows in three decimal places? \n",
        "(Enter answer in the format: Feature: xxx, Total: xxx, Percent: xxx)\n"
      ]
    },
    {
      "cell_type": "code",
      "metadata": {
        "id": "Xb2Zuy3sXhAU",
        "colab_type": "code",
        "colab": {}
      },
      "source": [
        "feature = total_null.sort_values(ascending=False)"
      ],
      "execution_count": 66,
      "outputs": []
    },
    {
      "cell_type": "code",
      "metadata": {
        "id": "E_Md_Vy3XT0w",
        "colab_type": "code",
        "colab": {}
      },
      "source": [
        "percent= total_null[\"fuel_unit\"]/len(fuel_data)*100"
      ],
      "execution_count": 67,
      "outputs": []
    },
    {
      "cell_type": "code",
      "metadata": {
        "id": "szWwawpsYJLF",
        "colab_type": "code",
        "colab": {
          "base_uri": "https://localhost:8080/",
          "height": 34
        },
        "outputId": "35bf5637-148c-4709-fa6f-5e304de19ff5"
      },
      "source": [
        "print(\"Feature:{},Total:{},Percent:{:.2}\".format(\"fuel_unit\",feature[0],percent))"
      ],
      "execution_count": 68,
      "outputs": [
        {
          "output_type": "stream",
          "text": [
            "Feature:fuel_unit,Total:180,Percent:0.61\n"
          ],
          "name": "stdout"
        }
      ]
    },
    {
      "cell_type": "markdown",
      "metadata": {
        "id": "0CqUIMjZaHv8",
        "colab_type": "text"
      },
      "source": [
        "##**Question 8**\n",
        "Which of the features has the second and third lowest correlation with the Fuel Cost Per Unit Burned?\n"
      ]
    },
    {
      "cell_type": "code",
      "metadata": {
        "id": "5q4hN1uXaL7J",
        "colab_type": "code",
        "colab": {
          "base_uri": "https://localhost:8080/",
          "height": 68
        },
        "outputId": "288196c0-1054-47cf-dfc2-2937e3e5dae7"
      },
      "source": [
        "fuel_data.corr()[\"fuel_cost_per_unit_burned\"].sort_values(ascending=False)[-3:-1]"
      ],
      "execution_count": 69,
      "outputs": [
        {
          "output_type": "execute_result",
          "data": {
            "text/plain": [
              "fuel_mmbtu_per_unit   -0.01\n",
              "fuel_qty_burned       -0.02\n",
              "Name: fuel_cost_per_unit_burned, dtype: float64"
            ]
          },
          "metadata": {
            "tags": []
          },
          "execution_count": 69
        }
      ]
    },
    {
      "cell_type": "markdown",
      "metadata": {
        "id": "_7JPd9WWas6S",
        "colab_type": "text"
      },
      "source": [
        "##**Question 9**\n",
        "For the fuel type coal, what is the percentage change in the fuel cost per unit burned in 1998 compared to 1994?\n"
      ]
    },
    {
      "cell_type": "code",
      "metadata": {
        "id": "nUGivu3La0iO",
        "colab_type": "code",
        "colab": {
          "base_uri": "https://localhost:8080/",
          "height": 34
        },
        "outputId": "0aed9036-5c14-4418-a096-2711b789479a"
      },
      "source": [
        "year_fuel_cost_burnt=fuel_data[fuel_data[\"fuel_type_code_pudl\"]==\"coal\"].groupby(\"report_year\")[\"fuel_cost_per_unit_burned\"].sum()\n",
        "\n",
        "percent = ((year_fuel_cost_burnt[1998]-year_fuel_cost_burnt[1994])/year_fuel_cost_burnt[1994])*100\n",
        "print(percent)"
      ],
      "execution_count": 70,
      "outputs": [
        {
          "output_type": "stream",
          "text": [
            "-20.56765451826049\n"
          ],
          "name": "stdout"
        }
      ]
    },
    {
      "cell_type": "markdown",
      "metadata": {
        "id": "rpFY7h0rbA-X",
        "colab_type": "text"
      },
      "source": [
        "##**Question 10**\n",
        "Which year has the highest average fuel cost per unit delivered?\n"
      ]
    },
    {
      "cell_type": "code",
      "metadata": {
        "id": "eHfvAUR7bD3Y",
        "colab_type": "code",
        "colab": {
          "base_uri": "https://localhost:8080/",
          "height": 476
        },
        "outputId": "9138861b-6ba5-4f79-fc4d-734aa344a0da"
      },
      "source": [
        "fuel_data.groupby(\"report_year\")[\"fuel_cost_per_unit_delivered\"].mean().sort_values(ascending=False)"
      ],
      "execution_count": 71,
      "outputs": [
        {
          "output_type": "execute_result",
          "data": {
            "text/plain": [
              "report_year\n",
              "1997   11,140.20\n",
              "1996    9,196.71\n",
              "2000      985.36\n",
              "2009      652.69\n",
              "2018      499.27\n",
              "2015      326.54\n",
              "1998      287.15\n",
              "2014      192.74\n",
              "2013      172.31\n",
              "2004      139.52\n",
              "2016      103.90\n",
              "2010       91.86\n",
              "1994       63.64\n",
              "2012       60.99\n",
              "2001       60.05\n",
              "2011       59.77\n",
              "2008       58.59\n",
              "2003       55.66\n",
              "2002       47.59\n",
              "2017       46.20\n",
              "2007       43.33\n",
              "2005       41.44\n",
              "2006       38.66\n",
              "1995       32.74\n",
              "1999       25.55\n",
              "Name: fuel_cost_per_unit_delivered, dtype: float64"
            ]
          },
          "metadata": {
            "tags": []
          },
          "execution_count": 71
        }
      ]
    }
  ]
}